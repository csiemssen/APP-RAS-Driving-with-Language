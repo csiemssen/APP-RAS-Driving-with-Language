{
 "cells": [
  {
   "cell_type": "markdown",
   "id": "87d297f3",
   "metadata": {},
   "source": [
    "# Notebook to allow for finetuning on colab"
   ]
  },
  {
   "cell_type": "code",
   "execution_count": null,
   "id": "594e2c48",
   "metadata": {},
   "outputs": [],
   "source": [
    "# NOTE: Set the branch the training should run on here\n",
    "!git clone -b <branch> https://github.com/csiemssen/APP-RAS-Driving-with-Language\n",
    "!rsync -a APP-RAS-Driving-with-Language/* .\n",
    "!rm -rf APP-RAS-Driving-with-Language"
   ]
  },
  {
   "cell_type": "code",
   "execution_count": null,
   "id": "cdefc894",
   "metadata": {},
   "outputs": [],
   "source": [
    "%pip install -r requirements.txt\n",
    "%pip install flash-attn==2.8.0.post2 --no-build-isolation"
   ]
  },
  {
   "cell_type": "markdown",
   "id": "9c722bff",
   "metadata": {},
   "source": [
    "## Training cofig"
   ]
  },
  {
   "cell_type": "code",
   "execution_count": null,
   "id": "afe27a5d",
   "metadata": {},
   "outputs": [],
   "source": [
    "from src.utils.approach import get_approach_kwargs, get_approach_name\n",
    "\n",
    "approaches = [\"image_grid\", \"descriptor_qas\", \"reasoning\"]\n",
    "test_set_size = None\n",
    "\n",
    "kwargs = get_approach_kwargs(approaches)\n",
    "approach_name = get_approach_name(approaches)"
   ]
  },
  {
   "cell_type": "markdown",
   "id": "8fafca56",
   "metadata": {},
   "source": [
    "## Start training"
   ]
  },
  {
   "cell_type": "code",
   "execution_count": null,
   "id": "da03a61a",
   "metadata": {},
   "outputs": [],
   "source": [
    "from src.train.train_qwen import train\n",
    "\n",
    "train(approach_name, test_set_size, **kwargs)"
   ]
  }
 ],
 "metadata": {
  "kernelspec": {
   "display_name": "venv",
   "language": "python",
   "name": "python3"
  },
  "language_info": {
   "codemirror_mode": {
    "name": "ipython",
    "version": 3
   },
   "file_extension": ".py",
   "mimetype": "text/x-python",
   "name": "python",
   "nbconvert_exporter": "python",
   "pygments_lexer": "ipython3",
   "version": "3.12.8"
  }
 },
 "nbformat": 4,
 "nbformat_minor": 5
}
