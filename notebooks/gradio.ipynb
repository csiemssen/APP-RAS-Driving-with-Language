{
 "cells": [
  {
   "cell_type": "markdown",
   "id": "36ae6fa4",
   "metadata": {},
   "source": [
    "## Notebook to run gradio ui"
   ]
  },
  {
   "cell_type": "code",
   "execution_count": null,
   "id": "6141baff",
   "metadata": {},
   "outputs": [],
   "source": [
    "# NOTE: Set the branch the eval should run on here\n",
    "!git clone -b <branch> https://github.com/csiemssen/APP-RAS-Driving-with-Language\n",
    "!rsync -a APP-RAS-Driving-with-Language/* .\n",
    "!rm -rf APP-RAS-Driving-with-Language"
   ]
  },
  {
   "cell_type": "code",
   "execution_count": null,
   "id": "0a204899",
   "metadata": {},
   "outputs": [],
   "source": [
    "%pip install -r requirements.txt\n",
    "%pip install flash-attn==2.8.0.post2 --no-build-isolation"
   ]
  },
  {
   "cell_type": "markdown",
   "id": "55797d47",
   "metadata": {},
   "source": [
    "## Start gradio"
   ]
  },
  {
   "cell_type": "code",
   "execution_count": null,
   "id": "511f2b42",
   "metadata": {},
   "outputs": [],
   "source": [
    "from gradio_app import demo\n",
    "\n",
    "demo.launch()"
   ]
  }
 ],
 "metadata": {
  "language_info": {
   "name": "python"
  }
 },
 "nbformat": 4,
 "nbformat_minor": 5
}
