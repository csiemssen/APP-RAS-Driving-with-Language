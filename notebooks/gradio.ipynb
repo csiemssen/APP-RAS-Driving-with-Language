{
 "cells": [
  {
   "cell_type": "markdown",
   "id": "36ae6fa4",
   "metadata": {},
   "source": [
    "## Notebook to run gradio ui"
   ]
  },
  {
   "cell_type": "code",
   "execution_count": null,
   "id": "6141baff",
   "metadata": {},
   "outputs": [],
   "source": [
    "# NOTE: Set the branch the eval should run on here\n",
    "!git clone -b <branch> https://github.com/csiemssen/APP-RAS-Driving-with-Language\n",
    "!rsync -a APP-RAS-Driving-with-Language/* .\n",
    "!rm -rf APP-RAS-Driving-with-Language"
   ]
  },
  {
   "cell_type": "code",
   "execution_count": null,
   "id": "511f2b42",
   "metadata": {},
   "outputs": [],
   "source": [
    "from gradio_app import demo\n",
    "\n",
    "demo.launch()"
   ]
  }
 ],
 "metadata": {
  "language_info": {
   "name": "python"
  }
 },
 "nbformat": 4,
 "nbformat_minor": 5
}
