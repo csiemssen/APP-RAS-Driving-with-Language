{
 "cells": [
  {
   "cell_type": "markdown",
   "id": "6ece6294",
   "metadata": {},
   "source": [
    "# Notebook for running the eval script on colab"
   ]
  },
  {
   "cell_type": "code",
   "execution_count": null,
   "id": "fbeb99e2",
   "metadata": {},
   "outputs": [],
   "source": [
    "# NOTE: Set the branch the training should run on here\n",
    "!git clone -b <branch> https://github.com/csiemssen/APP-RAS-Driving-with-Language\n",
    "!rsync -a APP-RAS-Driving-with-Language/* .\n",
    "!rm -rf APP-RAS-Driving-with-Language"
   ]
  },
  {
   "cell_type": "code",
   "execution_count": null,
   "id": "24aedf01",
   "metadata": {},
   "outputs": [],
   "source": [
    "!pip install -r requirements.txt\n",
    "%pip install flash-attn==2.8.0.post2 --no-build-isolation"
   ]
  },
  {
   "cell_type": "markdown",
   "id": "4e56f78e",
   "metadata": {},
   "source": [
    "## Eval config"
   ]
  },
  {
   "cell_type": "code",
   "execution_count": null,
   "id": "c13e9ae3",
   "metadata": {},
   "outputs": [],
   "source": [
    "from src.models.qwen_vl_inference import QwenVLInferenceEngine\n",
    "\n",
    "approaches = [\"use_grid\"]\n",
    "use_grid = True\n",
    "batch_size = 30\n",
    "resize_factor = 0.2\n",
    "test_set_size = 15480\n",
    "dataset_split = \"val\"\n",
    "\n",
    "approach_kwargs_map = {\n",
    "    \"image_grid\": {\"use_grid\": True},\n",
    "    \"descriptor_qas\": {\"use_augmented\": True},\n",
    "}\n",
    "\n",
    "kwargs = {}\n",
    "for approach in approaches:\n",
    "    if approach in approach_kwargs_map:\n",
    "        kwargs.update(approach_kwargs_map[approach])\n",
    "\n",
    "engine = QwenVLInferenceEngine(use_4bit=True, resize_factor=resize_factor)"
   ]
  },
  {
   "cell_type": "markdown",
   "id": "85ebd1ce",
   "metadata": {},
   "source": [
    "## Start eval"
   ]
  },
  {
   "cell_type": "code",
   "execution_count": null,
   "id": "2822a279",
   "metadata": {},
   "outputs": [],
   "source": [
    "from src.eval.eval_models import evaluate_model\n",
    "\n",
    "evaluate_model(\n",
    "    engine=engine,\n",
    "    batch_size=batch_size,\n",
    "    use_grid=use_grid,\n",
    "    resize_factor=resize_factor,\n",
    "    test_set_size=test_set_size,\n",
    "    dataset_split=dataset_split,\n",
    "    **kwargs,\n",
    ")"
   ]
  },
  {
   "cell_type": "markdown",
   "id": "c1832644",
   "metadata": {},
   "source": []
  }
 ],
 "metadata": {
  "kernelspec": {
   "display_name": "venv",
   "language": "python",
   "name": "python3"
  },
  "language_info": {
   "codemirror_mode": {
    "name": "ipython",
    "version": 3
   },
   "file_extension": ".py",
   "mimetype": "text/x-python",
   "name": "python",
   "nbconvert_exporter": "python",
   "pygments_lexer": "ipython3",
   "version": "3.12.8"
  }
 },
 "nbformat": 4,
 "nbformat_minor": 5
}
