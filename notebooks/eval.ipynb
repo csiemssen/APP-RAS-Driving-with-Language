{
 "cells": [
  {
   "cell_type": "markdown",
   "id": "6ece6294",
   "metadata": {},
   "source": [
    "# Notebook for running the eval script on colab"
   ]
  },
  {
   "cell_type": "code",
   "execution_count": null,
   "id": "fbeb99e2",
   "metadata": {},
   "outputs": [],
   "source": [
    "# NOTE: Set the branch the eval should run on here\n",
    "!git clone -b <branch> https://github.com/csiemssen/APP-RAS-Driving-with-Language\n",
    "!rsync -a APP-RAS-Driving-with-Language/* .\n",
    "!rm -rf APP-RAS-Driving-with-Language"
   ]
  },
  {
   "cell_type": "code",
   "execution_count": null,
   "id": "24aedf01",
   "metadata": {},
   "outputs": [],
   "source": [
    "%pip install -r requirements.txt\n",
    "%pip install flash-attn==2.8.0.post2 --no-build-isolation"
   ]
  },
  {
   "cell_type": "markdown",
   "id": "4e56f78e",
   "metadata": {},
   "source": [
    "## Eval config"
   ]
  },
  {
   "cell_type": "code",
   "execution_count": null,
   "id": "c13e9ae3",
   "metadata": {},
   "outputs": [],
   "source": [
    "from src.models.qwen_vl_inference import QwenVLInferenceEngine\n",
    "from src.utils.approach import get_approach_kwargs, get_approach_name\n",
    "from src.utils.utils import get_resize_image_size\n",
    "\n",
    "approaches = []  # [\"image_grid\", \"reasoning\", \"system_prompt\"]\n",
    "resize_factor = 0.25  # [0.25, 0.5, 0.75, 1]\n",
    "batch_size = 30\n",
    "test_set_size = 15480\n",
    "dataset_split = \"val\"\n",
    "\n",
    "kwargs = get_approach_kwargs(approaches)\n",
    "\n",
    "resize_image_size = get_resize_image_size(\n",
    "    resize_factor=resize_factor, grid=\"image_grid\" in approaches\n",
    ")\n",
    "\n",
    "approach_name = \"resizeFactor=\" + str(resize_factor)\n",
    "if approaches:\n",
    "    approach_name = approach_name + \"_\" + get_approach_name(approaches)\n",
    "\n",
    "engine = QwenVLInferenceEngine(use_4bit=True, resize_image_size=resize_image_size)"
   ]
  },
  {
   "cell_type": "markdown",
   "id": "85ebd1ce",
   "metadata": {},
   "source": [
    "## Start eval"
   ]
  },
  {
   "cell_type": "code",
   "execution_count": null,
   "id": "2822a279",
   "metadata": {},
   "outputs": [],
   "source": [
    "from src.eval.eval_models import evaluate_model\n",
    "\n",
    "evaluate_model(\n",
    "    engine=engine,\n",
    "    batch_size=batch_size,\n",
    "    test_set_size=test_set_size,\n",
    "    dataset_split=dataset_split,\n",
    "    approach_name=approach_name,\n",
    "    resize_factor=resize_factor,\n",
    "    **kwargs,\n",
    ")"
   ]
  },
  {
   "cell_type": "markdown",
   "id": "c1832644",
   "metadata": {},
   "source": []
  }
 ],
 "metadata": {
  "kernelspec": {
   "display_name": "venv",
   "language": "python",
   "name": "python3"
  },
  "language_info": {
   "codemirror_mode": {
    "name": "ipython",
    "version": 3
   },
   "file_extension": ".py",
   "mimetype": "text/x-python",
   "name": "python",
   "nbconvert_exporter": "python",
   "pygments_lexer": "ipython3",
   "version": "3.12.8"
  }
 },
 "nbformat": 4,
 "nbformat_minor": 5
}
