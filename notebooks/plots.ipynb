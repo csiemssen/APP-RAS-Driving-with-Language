{
 "cells": [
  {
   "cell_type": "code",
   "execution_count": 5,
   "id": "c91802c0",
   "metadata": {},
   "outputs": [
    {
     "name": "stdout",
     "output_type": "stream",
     "text": [
      "shape: (9, 11)\n",
      "┌───────────┬──────────┬───────────┬───────────┬───┬───────────┬───────────┬───────────┬───────────┐\n",
      "│ approach  ┆ accuracy ┆ chatgpt   ┆ language/ ┆ … ┆ language/ ┆ language/ ┆ match     ┆ final_sco │\n",
      "│ ---       ┆ ---      ┆ ---       ┆ Bleu_1    ┆   ┆ ROUGE_L   ┆ CIDEr     ┆ ---       ┆ re        │\n",
      "│ str       ┆ f64      ┆ f64       ┆ ---       ┆   ┆ ---       ┆ ---       ┆ f64       ┆ ---       │\n",
      "│           ┆          ┆           ┆ f64       ┆   ┆ f64       ┆ f64       ┆           ┆ f64       │\n",
      "╞═══════════╪══════════╪═══════════╪═══════════╪═══╪═══════════╪═══════════╪═══════════╪═══════════╡\n",
      "│ baseline  ┆ 0.0      ┆ 67.34569  ┆ 0.239255  ┆ … ┆ 0.190794  ┆ 0.006792  ┆ 32.464497 ┆ 0.354294  │\n",
      "│ FrontCam_ ┆ 0.28803  ┆ 60.932932 ┆ 0.480857  ┆ … ┆ 0.555799  ┆ 0.034796  ┆ 22.276627 ┆ 0.408061  │\n",
      "│ SystemPro ┆          ┆           ┆           ┆   ┆           ┆           ┆           ┆           │\n",
      "│ mpt       ┆          ┆           ┆           ┆   ┆           ┆           ┆           ┆           │\n",
      "│ ImageGrid ┆ 0.0      ┆ 54.04558  ┆ 0.573101  ┆ … ┆ 0.62264   ┆ 0.049347  ┆ 22.08432  ┆ 0.333585  │\n",
      "│ _SystemPr ┆          ┆           ┆           ┆   ┆           ┆           ┆           ┆           │\n",
      "│ ompt      ┆          ┆           ┆           ┆   ┆           ┆           ┆           ┆           │\n",
      "│ AddKois_F ┆ 0.342893 ┆ 63.849676 ┆ 0.480933  ┆ … ┆ 0.5556    ┆ 0.032111  ┆ 36.791548 ┆ 0.459715  │\n",
      "│ rontCam_S ┆          ┆           ┆           ┆   ┆           ┆           ┆           ┆           │\n",
      "│ ystemProm ┆          ┆           ┆           ┆   ┆           ┆           ┆           ┆           │\n",
      "│ pt        ┆          ┆           ┆           ┆   ┆           ┆           ┆           ┆           │\n",
      "│ SystemPro ┆ 0.335046 ┆ 61.272458 ┆ 0.561421  ┆ … ┆ 0.614234  ┆ 0.072184  ┆ 33.492275 ┆ 0.450532  │\n",
      "│ mpt_Image ┆          ┆           ┆           ┆   ┆           ┆           ┆           ┆           │\n",
      "│ Grid_AddK ┆          ┆           ┆           ┆   ┆           ┆           ┆           ┆           │\n",
      "│ ois       ┆          ┆           ┆           ┆   ┆           ┆           ┆           ┆           │\n",
      "│ AddKois_S ┆ 0.202989 ┆ 64.064695 ┆ 0.458533  ┆ … ┆ 0.53765   ┆ 0.010264  ┆ 29.826923 ┆ 0.415805  │\n",
      "│ ystemProm ┆          ┆           ┆           ┆   ┆           ┆           ┆           ┆           │\n",
      "│ pt_AddBev ┆          ┆           ┆           ┆   ┆           ┆           ┆           ┆           │\n",
      "│ AddKois_S ┆ 0.285714 ┆ 67.365685 ┆ 0.470515  ┆ … ┆ 0.549869  ┆ 0.02875   ┆ 33.795858 ┆ 0.455374  │\n",
      "│ ystemProm ┆          ┆           ┆           ┆   ┆           ┆           ┆           ┆           │\n",
      "│ pt_AddBev ┆          ┆           ┆           ┆   ┆           ┆           ┆           ┆           │\n",
      "│ _Fr…      ┆          ┆           ┆           ┆   ┆           ┆           ┆           ┆           │\n",
      "│ FrontCam_ ┆ 0.366732 ┆ 61.540597 ┆ 0.511852  ┆ … ┆ 0.579051  ┆ 0.043928  ┆ 33.841223 ┆ 0.452998  │\n",
      "│ AddKois_S ┆          ┆           ┆           ┆   ┆           ┆           ┆           ┆           │\n",
      "│ ystemProm ┆          ┆           ┆           ┆   ┆           ┆           ┆           ┆           │\n",
      "│ pt_…      ┆          ┆           ┆           ┆   ┆           ┆           ┆           ┆           │\n",
      "│ SystemPro ┆ 0.271589 ┆ 62.199722 ┆ 0.476047  ┆ … ┆ 0.56166   ┆ 0.014834  ┆ 32.680309 ┆ 0.430685  │\n",
      "│ mpt_AddKo ┆          ┆           ┆           ┆   ┆           ┆           ┆           ┆           │\n",
      "│ is        ┆          ┆           ┆           ┆   ┆           ┆           ┆           ┆           │\n",
      "└───────────┴──────────┴───────────┴───────────┴───┴───────────┴───────────┴───────────┴───────────┘\n"
     ]
    }
   ],
   "source": [
    "import polars as pl\n",
    "\n",
    "\n",
    "df = pl.read_json(\"../data/test_server_eval/Qwen_Qwen2.5-VL-3B-Instruct/all_results.json\")\n",
    "\n",
    "print(df)"
   ]
  },
  {
   "cell_type": "code",
   "execution_count": 13,
   "id": "38cc4cc2",
   "metadata": {},
   "outputs": [
    {
     "data": {
      "text/html": [
       "\n",
       "<style>\n",
       "  #altair-viz-fba4d24638e242f0a971758a008fd6b5.vega-embed {\n",
       "    width: 100%;\n",
       "    display: flex;\n",
       "  }\n",
       "\n",
       "  #altair-viz-fba4d24638e242f0a971758a008fd6b5.vega-embed details,\n",
       "  #altair-viz-fba4d24638e242f0a971758a008fd6b5.vega-embed details summary {\n",
       "    position: relative;\n",
       "  }\n",
       "</style>\n",
       "<div id=\"altair-viz-fba4d24638e242f0a971758a008fd6b5\"></div>\n",
       "<script type=\"text/javascript\">\n",
       "  var VEGA_DEBUG = (typeof VEGA_DEBUG == \"undefined\") ? {} : VEGA_DEBUG;\n",
       "  (function(spec, embedOpt){\n",
       "    let outputDiv = document.currentScript.previousElementSibling;\n",
       "    if (outputDiv.id !== \"altair-viz-fba4d24638e242f0a971758a008fd6b5\") {\n",
       "      outputDiv = document.getElementById(\"altair-viz-fba4d24638e242f0a971758a008fd6b5\");\n",
       "    }\n",
       "\n",
       "    const paths = {\n",
       "      \"vega\": \"https://cdn.jsdelivr.net/npm/vega@5?noext\",\n",
       "      \"vega-lib\": \"https://cdn.jsdelivr.net/npm/vega-lib?noext\",\n",
       "      \"vega-lite\": \"https://cdn.jsdelivr.net/npm/vega-lite@5.20.1?noext\",\n",
       "      \"vega-embed\": \"https://cdn.jsdelivr.net/npm/vega-embed@6?noext\",\n",
       "    };\n",
       "\n",
       "    function maybeLoadScript(lib, version) {\n",
       "      var key = `${lib.replace(\"-\", \"\")}_version`;\n",
       "      return (VEGA_DEBUG[key] == version) ?\n",
       "        Promise.resolve(paths[lib]) :\n",
       "        new Promise(function(resolve, reject) {\n",
       "          var s = document.createElement('script');\n",
       "          document.getElementsByTagName(\"head\")[0].appendChild(s);\n",
       "          s.async = true;\n",
       "          s.onload = () => {\n",
       "            VEGA_DEBUG[key] = version;\n",
       "            return resolve(paths[lib]);\n",
       "          };\n",
       "          s.onerror = () => reject(`Error loading script: ${paths[lib]}`);\n",
       "          s.src = paths[lib];\n",
       "        });\n",
       "    }\n",
       "\n",
       "    function showError(err) {\n",
       "      outputDiv.innerHTML = `<div class=\"error\" style=\"color:red;\">${err}</div>`;\n",
       "      throw err;\n",
       "    }\n",
       "\n",
       "    function displayChart(vegaEmbed) {\n",
       "      vegaEmbed(outputDiv, spec, embedOpt)\n",
       "        .catch(err => showError(`Javascript Error: ${err.message}<br>This usually means there's a typo in your chart specification. See the javascript console for the full traceback.`));\n",
       "    }\n",
       "\n",
       "    if(typeof define === \"function\" && define.amd) {\n",
       "      requirejs.config({paths});\n",
       "      let deps = [\"vega-embed\"];\n",
       "      require(deps, displayChart, err => showError(`Error loading script: ${err.message}`));\n",
       "    } else {\n",
       "      maybeLoadScript(\"vega\", \"5\")\n",
       "        .then(() => maybeLoadScript(\"vega-lite\", \"5.20.1\"))\n",
       "        .then(() => maybeLoadScript(\"vega-embed\", \"6\"))\n",
       "        .catch(showError)\n",
       "        .then(() => displayChart(vegaEmbed));\n",
       "    }\n",
       "  })({\"config\": {\"view\": {\"continuousWidth\": 300, \"continuousHeight\": 300}}, \"data\": {\"name\": \"data-a2e03e41e2c2f34c91e473665e5a360d\"}, \"mark\": {\"type\": \"bar\", \"tooltip\": true}, \"encoding\": {\"color\": {\"field\": \"approach\", \"legend\": {\"labelLimit\": 230, \"title\": \"Approaches\"}, \"sort\": null, \"type\": \"nominal\"}, \"x\": {\"axis\": null, \"field\": \"approach\", \"sort\": null, \"type\": \"nominal\"}, \"y\": {\"field\": \"final_score\", \"type\": \"quantitative\"}}, \"height\": 400, \"params\": [{\"name\": \"param_10\", \"select\": {\"type\": \"interval\", \"encodings\": [\"x\", \"y\"]}, \"bind\": \"scales\"}], \"title\": \"Final Scores of the Approaches\", \"width\": 500, \"$schema\": \"https://vega.github.io/schema/vega-lite/v5.20.1.json\", \"datasets\": {\"data-a2e03e41e2c2f34c91e473665e5a360d\": [{\"approach\": \"baseline\", \"accuracy\": 0.0, \"chatgpt\": 67.3456904541242, \"language/Bleu_1\": 0.23925483214648655, \"language/Bleu_2\": 0.11544553891542789, \"language/Bleu_3\": 0.057574440433052446, \"language/Bleu_4\": 0.020769188970051755, \"language/ROUGE_L\": 0.19079430087529606, \"language/CIDEr\": 0.006791738547463531, \"match\": 32.46449704142012, \"final_score\": 0.3542940542224235}, {\"approach\": \"FrontCam_SystemPrompt\", \"accuracy\": 0.2880299251870324, \"chatgpt\": 60.932932469935245, \"language/Bleu_1\": 0.48085733828636223, \"language/Bleu_2\": 0.40764913780663725, \"language/Bleu_3\": 0.33374260124609884, \"language/Bleu_4\": 0.2708176910495853, \"language/ROUGE_L\": 0.5557994208607189, \"language/CIDEr\": 0.03479597777201272, \"match\": 22.276627218934912, \"final_score\": 0.4080606834040234}, {\"approach\": \"ImageGrid_SystemPrompt\", \"accuracy\": 0.0, \"chatgpt\": 54.04558011049724, \"language/Bleu_1\": 0.5731008751760056, \"language/Bleu_2\": 0.5051917697506436, \"language/Bleu_3\": 0.43518355621830035, \"language/Bleu_4\": 0.37027922852062295, \"language/ROUGE_L\": 0.6226398098069815, \"language/CIDEr\": 0.04934728464822469, \"match\": 22.08431952662722, \"final_score\": 0.3335851858744565}, {\"approach\": \"AddKois_FrontCam_SystemPrompt\", \"accuracy\": 0.3428927680798005, \"chatgpt\": 63.84967622571693, \"language/Bleu_1\": 0.48093324474288585, \"language/Bleu_2\": 0.4078753600576974, \"language/Bleu_3\": 0.3340782095937785, \"language/Bleu_4\": 0.2711507819984709, \"language/ROUGE_L\": 0.5555998014522081, \"language/CIDEr\": 0.032110888522293005, \"match\": 36.79154804666749, \"final_score\": 0.45971504057233914}, {\"approach\": \"SystemPrompt_ImageGrid_AddKois\", \"accuracy\": 0.33504624871531347, \"chatgpt\": 61.27245762711864, \"language/Bleu_1\": 0.5614206651470869, \"language/Bleu_2\": 0.4865162900915871, \"language/Bleu_3\": 0.40968184166262533, \"language/Bleu_4\": 0.3434640019429535, \"language/ROUGE_L\": 0.6142339911093044, \"language/CIDEr\": 0.07218389522168488, \"match\": 33.49227470777632, \"final_score\": 0.450531835023259}, {\"approach\": \"AddKois_SystemPrompt_AddBev\", \"accuracy\": 0.20298879202988793, \"chatgpt\": 64.06469500924214, \"language/Bleu_1\": 0.4585327760822938, \"language/Bleu_2\": 0.38285197588489844, \"language/Bleu_3\": 0.31000213380806757, \"language/Bleu_4\": 0.25158210392254227, \"language/ROUGE_L\": 0.5376499018387202, \"language/CIDEr\": 0.010264286897149753, \"match\": 29.82692297115385, \"final_score\": 0.4158049562487796}, {\"approach\": \"AddKois_SystemPrompt_AddBev_FrontCam\", \"accuracy\": 0.2857142857142857, \"chatgpt\": 67.36568537258509, \"language/Bleu_1\": 0.4705145702957916, \"language/Bleu_2\": 0.39872949341705666, \"language/Bleu_3\": 0.3256972593812342, \"language/Bleu_4\": 0.26469881944960977, \"language/ROUGE_L\": 0.5498687219934556, \"language/CIDEr\": 0.028749650237056702, \"match\": 33.795857880424066, \"final_score\": 0.4553742292375847}, {\"approach\": \"FrontCam_AddKois_SystemPrompt_Reasoning\", \"accuracy\": 0.3667315175097276, \"chatgpt\": 61.54059652029826, \"language/Bleu_1\": 0.5118515590066709, \"language/Bleu_2\": 0.43899770430448143, \"language/Bleu_3\": 0.36407792323225396, \"language/Bleu_4\": 0.29968257310868734, \"language/ROUGE_L\": 0.579051448972488, \"language/CIDEr\": 0.043928354832404905, \"match\": 33.84122275632808, \"final_score\": 0.4529975833870449}, {\"approach\": \"SystemPrompt_AddKois\", \"accuracy\": 0.2715894868585732, \"chatgpt\": 62.199721964782206, \"language/Bleu_1\": 0.47604731159635894, \"language/Bleu_2\": 0.4045347783238688, \"language/Bleu_3\": 0.3322604042296215, \"language/Bleu_4\": 0.26701335667807913, \"language/ROUGE_L\": 0.5616598697032044, \"language/CIDEr\": 0.01483415508227924, \"match\": 32.68030887917307, \"final_score\": 0.4306845528504173}]}}, {\"mode\": \"vega-lite\"});\n",
       "</script>"
      ],
      "text/plain": [
       "alt.Chart(...)"
      ]
     },
     "execution_count": 13,
     "metadata": {},
     "output_type": "execute_result"
    }
   ],
   "source": [
    "import altair as alt\n",
    "\n",
    "\n",
    "df.plot.bar(\n",
    "    x=alt.X(\"approach\", sort=None, axis=None), y=\"final_score\", color=alt.Color(\"approach\", sort=None, legend=alt.Legend(title=\"Approaches\", labelLimit=230))\n",
    ").properties(\n",
    "    title=\"Final Scores of the Approaches\", width=500, height=400\n",
    ")"
   ]
  },
  {
   "cell_type": "code",
   "execution_count": null,
   "id": "9c2228b3",
   "metadata": {},
   "outputs": [],
   "source": []
  }
 ],
 "metadata": {
  "kernelspec": {
   "display_name": "venv",
   "language": "python",
   "name": "python3"
  },
  "language_info": {
   "codemirror_mode": {
    "name": "ipython",
    "version": 3
   },
   "file_extension": ".py",
   "mimetype": "text/x-python",
   "name": "python",
   "nbconvert_exporter": "python",
   "pygments_lexer": "ipython3",
   "version": "3.12.3"
  }
 },
 "nbformat": 4,
 "nbformat_minor": 5
}
